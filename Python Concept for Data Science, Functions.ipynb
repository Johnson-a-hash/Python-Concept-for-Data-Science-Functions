{
 "cells": [
  {
   "cell_type": "markdown",
   "id": "25334bd9",
   "metadata": {},
   "source": [
    "# **Functions**\n",
    "\n",
    "Many programs react to user input. Functions allow us to define a task we would like the computer to carry out based on input. A simple function in Python might look like this:"
   ]
  },
  {
   "cell_type": "code",
   "execution_count": 15,
   "id": "0156cc5d",
   "metadata": {},
   "outputs": [],
   "source": [
    "def square(number):\n",
    "    return number**2"
   ]
  },
  {
   "cell_type": "code",
   "execution_count": 14,
   "id": "a46ac979",
   "metadata": {},
   "outputs": [
    {
     "name": "stdout",
     "output_type": "stream",
     "text": [
      "30.25\n",
      "36\n"
     ]
    }
   ],
   "source": [
    "# we can store function output in variables\n",
    "squared = square(5.5)\n",
    "\n",
    "print(squared)\n",
    "\n",
    "my_number = 6\n",
    "# we can also use variables as function input\n",
    "print(square(my_number))"
   ]
  },
  {
   "cell_type": "markdown",
   "id": "e42190e2",
   "metadata": {},
   "source": [
    "## How to calculate the area and parameter of a rectangle using python functions"
   ]
  },
  {
   "cell_type": "code",
   "execution_count": 10,
   "id": "0007116c",
   "metadata": {},
   "outputs": [],
   "source": [
    "def calculate_area(length,breadth):\n",
    "    area = length * breadth\n",
    "    return area\n",
    "\n",
    "def calculate_parameter(length,breadth):\n",
    "    parameter = 2*length + 2*breadth\n",
    "    return parameter\n",
    "\n"
   ]
  },
  {
   "cell_type": "code",
   "execution_count": 11,
   "id": "74f5fc2c",
   "metadata": {},
   "outputs": [
    {
     "name": "stdout",
     "output_type": "stream",
     "text": [
      "Input the length4\n",
      "Input the breadth6\n",
      "Area of the rectangle is  24\n",
      "Parameter of the rectangle is  20\n"
     ]
    }
   ],
   "source": [
    "length = int(input('Input the length'))\n",
    "width = int(input('Input the breadth'))\n",
    "\n",
    "print(\"Area of the rectangle is \",calculate_area(length,width))\n",
    "print(\"Parameter of the rectangle is \",calculate_parameter(length,width))"
   ]
  }
 ],
 "metadata": {
  "kernelspec": {
   "display_name": "Python 3",
   "language": "python",
   "name": "python3"
  },
  "language_info": {
   "codemirror_mode": {
    "name": "ipython",
    "version": 3
   },
   "file_extension": ".py",
   "mimetype": "text/x-python",
   "name": "python",
   "nbconvert_exporter": "python",
   "pygments_lexer": "ipython3",
   "version": "3.8.8"
  }
 },
 "nbformat": 4,
 "nbformat_minor": 5
}
